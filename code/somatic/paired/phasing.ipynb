{
 "cells": [
  {
   "cell_type": "code",
   "execution_count": 6,
   "metadata": {},
   "outputs": [],
   "source": [
    "import pysam as ps"
   ]
  },
  {
   "cell_type": "code",
   "execution_count": 7,
   "metadata": {},
   "outputs": [],
   "source": [
    "def get_max_phase_set_id(record, samples):\n",
    "    return max(int(record.samples[sample]['PS']) for sample in samples)\n",
    "\n",
    "def get_multivariant_phasesets(vcf_path, samples=None):\n",
    "    vcf = ps.VariantFile(vcf_path)\n",
    "    tails = set()\n",
    "    for record in vcf:\n",
    "        phase_set_id = get_max_phase_set_id(record, vcf.header.samples)\n",
    "        if phase_set_id != record.pos:\n",
    "            tails.add((record.chrom, phase_set_id))\n",
    "    vcf.close()\n",
    "    vcf.open(vcf_path)\n",
    "    result = []\n",
    "    prev_phase_set_id = 0\n",
    "    phase_set = []\n",
    "    for record in vcf:\n",
    "        phase_set_id = get_max_phase_set_id(record, vcf.header.samples)\n",
    "        if phase_set_id == prev_phase_set_id:\n",
    "            phase_set.append(record)\n",
    "        elif (record.chrom, phase_set_id) in tails:\n",
    "            if len(phase_set) > 0:\n",
    "                result.append(phase_set)\n",
    "            phase_set = [record]\n",
    "            prev_phase_set_id = phase_set_id\n",
    "    if len(phase_set) > 0:\n",
    "        result.append(phase_set)\n",
    "    return result\n",
    "\n",
    "def is_somatic(record):\n",
    "    return 'SOMATIC' in record.info\n",
    "\n",
    "def is_denovo(record):\n",
    "    return 'SOMATIC' in record.info\n",
    "\n",
    "def is_passed(record):\n",
    "    return 'PASS' in record.filter\n",
    "\n",
    "def all_passed(records):\n",
    "    return all(is_passed(record) for record in records)\n",
    "\n",
    "def is_heterozygous(record, sample):\n",
    "    genotype = record.samples[sample]['GT']\n",
    "    return sum(1 if allele is None or allele > 0 else 0 for allele in genotype) < len(genotype)\n",
    "\n",
    "def any_heterozygous(record, samples):\n",
    "    return any(is_heterozygous(record, sample) for sample in samples)"
   ]
  },
  {
   "cell_type": "code",
   "execution_count": 8,
   "metadata": {},
   "outputs": [],
   "source": [
    "vcf_path = \"/Users/dcooke/Genomics/octopus/paper/somatic/paired/calls/skin/N30/T60/octopus.all.vcf.gz\""
   ]
  },
  {
   "cell_type": "code",
   "execution_count": 4,
   "metadata": {},
   "outputs": [],
   "source": [
    "phase_sets = get_multivariant_phasesets(vcf_path)"
   ]
  },
  {
   "cell_type": "code",
   "execution_count": 5,
   "metadata": {},
   "outputs": [
    {
     "data": {
      "text/plain": [
       "1062208"
      ]
     },
     "execution_count": 5,
     "metadata": {},
     "output_type": "execute_result"
    }
   ],
   "source": [
    "len(phase_sets)"
   ]
  },
  {
   "cell_type": "code",
   "execution_count": 6,
   "metadata": {},
   "outputs": [],
   "source": [
    "somatic_phasesets = []\n",
    "for phaseset in phase_sets:\n",
    "    if any(is_somatic(record) for record in phaseset):\n",
    "        somatic_phasesets.append(phaseset)"
   ]
  },
  {
   "cell_type": "code",
   "execution_count": 7,
   "metadata": {},
   "outputs": [
    {
     "data": {
      "text/plain": [
       "133039"
      ]
     },
     "execution_count": 7,
     "metadata": {},
     "output_type": "execute_result"
    }
   ],
   "source": [
    "len(somatic_phasesets)"
   ]
  },
  {
   "cell_type": "code",
   "execution_count": 8,
   "metadata": {},
   "outputs": [],
   "source": [
    "passed_somatic_phasesets = []\n",
    "for phaseset in phase_sets:\n",
    "    if any(is_somatic(record) for record in phaseset) and all_passed(phaseset):\n",
    "        passed_somatic_phasesets.append(phaseset)"
   ]
  },
  {
   "cell_type": "code",
   "execution_count": 9,
   "metadata": {},
   "outputs": [
    {
     "data": {
      "text/plain": [
       "90121"
      ]
     },
     "execution_count": 9,
     "metadata": {},
     "output_type": "execute_result"
    }
   ],
   "source": [
    "len(passed_somatic_phasesets)"
   ]
  },
  {
   "cell_type": "code",
   "execution_count": 10,
   "metadata": {},
   "outputs": [
    {
     "name": "stdout",
     "output_type": "stream",
     "text": [
      "1\t4737319\t.\tG\tA\t53.54\tPASS\tAC=1;AN=5;DP=80;MP=19.16;MQ=60;MQ0=0;NS=2;PP=53.54;SOMATIC\tGT:GQ:DP:MQ:PS:PQ:MAP_VAF:VAF_CR:RFQUAL:FT\t0|0:401:25:60:4737319:99:.:.,.:24.77:PASS\t0|0|1:401:55:60:4737319:99:0.14:0.085,0.2:24.77:PASS\n",
      "\n",
      "1\t4737405\t.\tT\tC\t1324.38\tPASS\tAC=2;AN=5;DP=82;MP=19.16;MQ=60;MQ0=0;NS=2;PP=1324.38\tGT:GQ:DP:MQ:PS:PQ:RFQUAL:FT\t1|0:300:24:60:4737319:99:23.8:PASS\t1|0|0:300:58:60:4737319:99:17.73:PASS\n",
      "\n"
     ]
    },
    {
     "data": {
      "text/plain": [
       "[None, None]"
      ]
     },
     "execution_count": 10,
     "metadata": {},
     "output_type": "execute_result"
    }
   ],
   "source": [
    "[print(rec) for rec in passed_somatic_phasesets[113]]"
   ]
  },
  {
   "cell_type": "code",
   "execution_count": 9,
   "metadata": {},
   "outputs": [],
   "source": [
    "def count_somatics(records):\n",
    "    return sum(is_somatic(record) for record in records)"
   ]
  },
  {
   "cell_type": "code",
   "execution_count": 12,
   "metadata": {},
   "outputs": [
    {
     "data": {
      "text/plain": [
       "4872"
      ]
     },
     "execution_count": 12,
     "metadata": {},
     "output_type": "execute_result"
    }
   ],
   "source": [
    "sum(count_somatics(phase_set) > 1 for phase_set in passed_somatic_phasesets)"
   ]
  },
  {
   "cell_type": "code",
   "execution_count": 30,
   "metadata": {},
   "outputs": [
    {
     "data": {
      "text/plain": [
       "9834"
      ]
     },
     "execution_count": 30,
     "metadata": {},
     "output_type": "execute_result"
    }
   ],
   "source": [
    "sum(count_somatics(phase_set) if count_somatics(phase_set) > 1 else 0 for phase_set in passed_somatic_phasesets)"
   ]
  },
  {
   "cell_type": "code",
   "execution_count": 16,
   "metadata": {},
   "outputs": [
    {
     "data": {
      "text/plain": [
       "87"
      ]
     },
     "execution_count": 16,
     "metadata": {},
     "output_type": "execute_result"
    }
   ],
   "source": [
    "sum(count_somatics(phase_set) > 2 for phase_set in passed_somatic_phasesets)"
   ]
  },
  {
   "cell_type": "code",
   "execution_count": 17,
   "metadata": {},
   "outputs": [
    {
     "data": {
      "text/plain": [
       "3"
      ]
     },
     "execution_count": 17,
     "metadata": {},
     "output_type": "execute_result"
    }
   ],
   "source": [
    "sum(count_somatics(phase_set) > 3 for phase_set in passed_somatic_phasesets)"
   ]
  },
  {
   "cell_type": "code",
   "execution_count": 20,
   "metadata": {
    "collapsed": true
   },
   "outputs": [
    {
     "name": "stdout",
     "output_type": "stream",
     "text": [
      "8\t139011863\t.\tG\tGA\t81.19\tPASS\tAC=2;AN=6;DP=116;MP=3233.06;MQ=59;MQ0=0;NS=2;PP=81.19;SOMATIC\tGT:GQ:DP:MQ:PS:PQ:MAP_VAF:VAF_CR:RFQUAL:FT\t0|0:264:43:59:139011863:99:.:.,.:14.27:PASS\t0|0|1|1:264:73:60:139011863:99:0.13:0.088,0.19:3.43:PASS\n",
      "\n",
      "8\t139011865\t.\tAT\tA\t81.19\tPASS\tAC=2;AN=2;DP=121;MP=3233.06;MQ=59;MQ0=0;NS=2;PP=81.19;SOMATIC\tGT:GQ:DP:MQ:PS:PQ:MAP_VAF:VAF_CR:RFQUAL:FT\t.|.:160:43:59:139011863:99:.:.,.:3.59:PASS\t.|.|1|1:160:78:60:139011863:99:0.13:0.088,0.19:3.13:PASS\n",
      "\n",
      "8\t139011866\t.\tT\tA,*\t1488.57\tPASS\tAC=4,2;AN=6;DP=121;MP=3233.06;MQ=59;MQ0=0;NS=2;PP=1488.57\tGT:GQ:DP:MQ:PS:PQ:RFQUAL:FT\t1|1:127:43:59:139011863:99:56.16:PASS\t1|1|2|2:127:78:60:139011863:99:5.94:PASS\n",
      "\n",
      "8\t139011931\t.\tC\tT\t81.19\tPASS\tAC=2;AN=6;DP=137;MP=3233.06;MQ=59;MQ0=0;NS=2;PP=81.19;SOMATIC\tGT:GQ:DP:MQ:PS:PQ:MAP_VAF:VAF_CR:RFQUAL:FT\t0|0:293:53:59:139011863:99:.:.,.:6.62:PASS\t0|0|1|1:293:84:60:139011863:99:0.13:0.088,0.19:3.78:PASS\n",
      "\n",
      "8\t139011951\t.\tG\tGA\t81.19\tPASS\tAC=1;AN=6;DP=123;MP=3233.06;MQ=59;MQ0=0;NS=2;PP=81.19;SOMATIC\tGT:GQ:DP:MQ:PS:PQ:MAP_VAF:VAF_CR:RFQUAL:FT\t0|0:179:49:59:139011863:99:.:.,.:12.91:PASS\t0|0|1|0:179:74:60:139011863:99:0.13:0.088,0.19:11.43:PASS\n",
      "\n",
      "10\t9424470\t.\tA\tG\t10000\tPASS\tAC=6;AN=6;DP=75;MP=114.64;MQ=60;MQ0=0;NS=2;PP=3233.06\tGT:GQ:DP:MQ:PS:PQ:RFQUAL:FT\t1|1:67:28:60:9424470:99:21.97:PASS\t1|1|1|1:67:47:60:9424470:99:20.13:PASS\n",
      "\n",
      "10\t9424476\t.\tT\tC\t62.25\tPASS\tAC=1;AN=6;DP=76;MP=114.64;MQ=60;MQ0=0;NS=2;PP=62.25;SOMATIC\tGT:GQ:DP:MQ:PS:PQ:MAP_VAF:VAF_CR:RFQUAL:FT\t0|0:64:28:60:9424470:99:.:.,.:14.69:PASS\t0|0|1|0:64:48:60:9424470:99:0.17:0.12,0.23:13.12:PASS\n",
      "\n",
      "10\t9424534\t.\tG\tC\t10000\tPASS\tAC=6;AN=6;DP=67;MP=114.64;MQ=60;MQ0=0;NS=2;PP=3233.06\tGT:GQ:DP:MQ:PS:PQ:RFQUAL:FT\t1|1:67:24:60:9424470:99:20.23:PASS\t1|1|1|1:67:43:60:9424470:99:18.8:PASS\n",
      "\n",
      "10\t9424551\t.\tC\tT\t64.82\tPASS\tAC=1;AN=6;DP=62;MP=114.64;MQ=60;MQ0=0;NS=2;PP=64.82;SOMATIC\tGT:GQ:DP:MQ:PS:PQ:MAP_VAF:VAF_CR:RFQUAL:FT\t0|0:69:23:60:9424470:99:.:.,.:11.11:PASS\t0|0|0|1:69:39:60:9424470:99:0.17:0.044,0.12:11.9:PASS\n",
      "\n",
      "10\t9424636\t.\tC\tT\t126.91\tPASS\tAC=1;AN=6;DP=59;MP=114.64;MQ=60;MQ0=0;NS=2;PP=67.21;SOMATIC\tGT:GQ:DP:MQ:PS:PQ:MAP_VAF:VAF_CR:RFQUAL:FT\t0|0:67:20:60:9424470:99:.:.,.:13.76:PASS\t0|0|1|0:67:39:60:9424470:99:0.17:0.12,0.23:20:PASS\n",
      "\n",
      "10\t9424759\t.\tC\tT\t35.69\tPASS\tAC=1;AN=6;DP=52;MP=114.64;MQ=60;MQ0=0;NS=2;PP=35.69;SOMATIC\tGT:GQ:DP:MQ:PS:PQ:MAP_VAF:VAF_CR:RFQUAL:FT\t0|0:36:18:60:9424470:99:.:.,.:5.37:PASS\t0|0|0|1:36:34:60:9424470:99:0.17:0.044,0.12:4.53:PASS\n",
      "\n",
      "21\t42175679\t.\tG\tA\t146.99\tPASS\tAC=1;AN=6;DP=64;MP=70.97;MQ=60;MQ0=0;NS=2;PP=146.99;SOMATIC\tGT:GQ:DP:MQ:PS:PQ:MAP_VAF:VAF_CR:RFQUAL:FT\t0|0:425:29:60:42175679:99:.:.,.:21.95:PASS\t0|0|1|0:425:35:60:42175679:99:0.22:0.15,0.31:17.78:PASS\n",
      "\n",
      "21\t42175698\t.\tT\tTG\t146.99\tPASS\tAC=1;AN=6;DP=71;MP=70.97;MQ=60;MQ0=0;NS=2;PP=146.99;SOMATIC\tGT:GQ:DP:MQ:PS:PQ:MAP_VAF:VAF_CR:RFQUAL:FT\t0|0:122:34:60:42175679:99:.:.,.:20.31:PASS\t0|0|1|0:122:37:60:42175679:99:0.22:0.15,0.31:13.25:PASS\n",
      "\n",
      "21\t42175702\t.\tGA\tG\t146.99\tPASS\tAC=1;AN=4;DP=73;MP=70.97;MQ=60;MQ0=0;NS=2;PP=146.99;SOMATIC\tGT:GQ:DP:MQ:PS:PQ:MAP_VAF:VAF_CR:RFQUAL:FT\t0|.:122:33:60:42175679:99:.:.,.:3.9:PASS\t0|.|1|0:122:40:60:42175679:99:0.22:0.15,0.31:4.36:PASS\n",
      "\n",
      "21\t42175703\t.\tA\tG,*\t507.78\tPASS\tAC=2,1;AN=6;DP=73;MP=70.97;MQ=60;MQ0=0;NS=2;PP=507.78\tGT:GQ:DP:MQ:PS:PQ:RFQUAL:FT\t0|1:508:33:60:42175679:99:11.93:PASS\t0|1|2|0:508:40:60:42175679:99:12.41:PASS\n",
      "\n",
      "21\t42175769\t.\tG\tA\t146.99\tPASS\tAC=1;AN=6;DP=81;MP=70.97;MQ=60;MQ0=0;NS=2;PP=146.99;SOMATIC\tGT:GQ:DP:MQ:PS:PQ:MAP_VAF:VAF_CR:RFQUAL:FT\t0|0:363:31:60:42175679:99:.:.,.:26.64:PASS\t0|0|0|1:363:50:60:42175679:99:0.22:0.09,0.23:19.77:PASS\n",
      "\n"
     ]
    }
   ],
   "source": [
    "for phase_set in passed_somatic_phasesets:\n",
    "    if count_somatics(phase_set) > 3:\n",
    "        for rec in phase_set:\n",
    "            print(rec)"
   ]
  },
  {
   "cell_type": "code",
   "execution_count": 13,
   "metadata": {},
   "outputs": [
    {
     "data": {
      "text/plain": [
       "85249"
      ]
     },
     "execution_count": 13,
     "metadata": {},
     "output_type": "execute_result"
    }
   ],
   "source": [
    "sum(count_somatics(phase_set) == 1 for phase_set in passed_somatic_phasesets)"
   ]
  },
  {
   "cell_type": "code",
   "execution_count": 14,
   "metadata": {},
   "outputs": [],
   "source": [
    "passed_somatic_phasesets_with_het_germline = []\n",
    "for phase_set in passed_somatic_phasesets:\n",
    "    if any(not is_somatic(record) and is_heterozygous(record, \"NA12878.NORMAL\") for record in phase_set):\n",
    "        passed_somatic_phasesets_with_het_germline.append(phase_set)"
   ]
  },
  {
   "cell_type": "code",
   "execution_count": 33,
   "metadata": {},
   "outputs": [],
   "source": [
    "passed_somatics_phasesets_with_het_germline = [phase_set for phase_set in passed_somatic_phasesets_with_het_germline if count_somatics(phase_set) > 1]"
   ]
  },
  {
   "cell_type": "code",
   "execution_count": 36,
   "metadata": {},
   "outputs": [
    {
     "name": "stdout",
     "output_type": "stream",
     "text": [
      "1\t56766830\t.\tT\tA\t1760.94\tPASS\tAC=3;AN=6;DP=95;MP=82.82;MQ=60;MQ0=0;NS=2;PP=794.81\tGT:GQ:DP:MQ:PS:PQ:RFQUAL:FT\t1|0:795:39:60:56766830:99:31.54:PASS\t1|0|1|0:795:56:60:56766830:99:13.33:PASS\n",
      "\n",
      "1\t56766833\t.\tG\tA\t1121.17\tPASS\tAC=1;AN=6;DP=96;MP=82.82;MQ=60;MQ0=0;NS=2;PP=1121.17;SOMATIC\tGT:GQ:DP:MQ:PS:PQ:MAP_VAF:VAF_CR:RFQUAL:FT\t0|0:454:37:60:56766830:99:.:.,.:16.32:PASS\t0|0|1|0:454:59:60:56766830:99:0.44:0.36,0.53:19.44:PASS\n",
      "\n",
      "1\t56766879\t.\tG\tA\t717.51\tPASS\tAC=1;AN=6;DP=97;MP=82.82;MQ=60;MQ0=0;NS=2;PP=717.51;SOMATIC\tGT:GQ:DP:MQ:PS:PQ:MAP_VAF:VAF_CR:RFQUAL:FT\t0|0:718:32:60:56766830:99:.:.,.:23.98:PASS\t0|0|0|1:718:65:60:56766830:99:0.44:0.13,0.28:29.54:PASS\n",
      "\n"
     ]
    },
    {
     "data": {
      "text/plain": [
       "[None, None, None]"
      ]
     },
     "execution_count": 36,
     "metadata": {},
     "output_type": "execute_result"
    }
   ],
   "source": [
    "[print(rec) for rec in passed_somatics_phasesets_with_het_germline[11]]"
   ]
  },
  {
   "cell_type": "code",
   "execution_count": 21,
   "metadata": {},
   "outputs": [
    {
     "data": {
      "text/plain": [
       "57217"
      ]
     },
     "execution_count": 21,
     "metadata": {},
     "output_type": "execute_result"
    }
   ],
   "source": [
    "sum(count_somatics(phase_set) for phase_set in passed_somatic_phasesets_with_het_germline)"
   ]
  },
  {
   "cell_type": "code",
   "execution_count": 24,
   "metadata": {},
   "outputs": [
    {
     "data": {
      "text/plain": [
       "55776"
      ]
     },
     "execution_count": 24,
     "metadata": {},
     "output_type": "execute_result"
    }
   ],
   "source": [
    "len(passed_somatic_phasesets_with_het_germline)"
   ]
  },
  {
   "cell_type": "code",
   "execution_count": 40,
   "metadata": {},
   "outputs": [],
   "source": [
    "def phase_set_len(phase_set):\n",
    "    return phase_set[-1].pos - phase_set[0].pos"
   ]
  },
  {
   "cell_type": "code",
   "execution_count": 41,
   "metadata": {},
   "outputs": [
    {
     "ename": "NameError",
     "evalue": "name 'passed_somatic_phasesets_with_het_germline' is not defined",
     "output_type": "error",
     "traceback": [
      "\u001b[0;31m---------------------------------------------------------------------------\u001b[0m",
      "\u001b[0;31mNameError\u001b[0m                                 Traceback (most recent call last)",
      "\u001b[0;32m<ipython-input-41-40c2f043f8f9>\u001b[0m in \u001b[0;36m<module>\u001b[0;34m()\u001b[0m\n\u001b[0;32m----> 1\u001b[0;31m \u001b[0mpassed_somatic_phasesets_with_het_germline_lengths\u001b[0m \u001b[0;34m=\u001b[0m \u001b[0;34m[\u001b[0m\u001b[0mphase_set_len\u001b[0m\u001b[0;34m(\u001b[0m\u001b[0mphase_set\u001b[0m\u001b[0;34m)\u001b[0m \u001b[0;32mfor\u001b[0m \u001b[0mphase_set\u001b[0m \u001b[0;32min\u001b[0m \u001b[0mpassed_somatic_phasesets_with_het_germline\u001b[0m\u001b[0;34m]\u001b[0m\u001b[0;34m\u001b[0m\u001b[0m\n\u001b[0m",
      "\u001b[0;31mNameError\u001b[0m: name 'passed_somatic_phasesets_with_het_germline' is not defined"
     ]
    }
   ],
   "source": [
    "passed_somatic_phasesets_with_het_germline_lengths = [phase_set_len(phase_set) for phase_set in passed_somatic_phasesets_with_het_germline]"
   ]
  },
  {
   "cell_type": "code",
   "execution_count": 23,
   "metadata": {},
   "outputs": [
    {
     "data": {
      "text/plain": [
       "1407"
      ]
     },
     "execution_count": 23,
     "metadata": {},
     "output_type": "execute_result"
    }
   ],
   "source": [
    "sum(count_somatics(phase_set) > 1 for phase_set in passed_somatic_phasesets_with_het_germline)"
   ]
  },
  {
   "cell_type": "code",
   "execution_count": 31,
   "metadata": {},
   "outputs": [
    {
     "data": {
      "text/plain": [
       "2848"
      ]
     },
     "execution_count": 31,
     "metadata": {},
     "output_type": "execute_result"
    }
   ],
   "source": [
    "sum(count_somatics(phase_set) if count_somatics(phase_set) > 1 else 0 for phase_set in passed_somatic_phasesets_with_het_germline)"
   ]
  },
  {
   "cell_type": "code",
   "execution_count": 27,
   "metadata": {},
   "outputs": [
    {
     "name": "stdout",
     "output_type": "stream",
     "text": [
      "1\t2282135\t.\tG\tA\t1178\tPASS\tAC=2;AN=5;DP=72;MP=27.68;MQ=59;MQ0=0;NS=2;PP=1178\tGT:GQ:DP:MQ:PS:PQ:RFQUAL:FT\t1|0:319:30:60:2282135:49:24.77:PASS\t1|0|0:319:42:59:2282135:49:13.54:PASS\n",
      "\n",
      "1\t2282204\t.\tG\tA\t865.89\tPASS\tAC=3;AN=5;DP=71;MP=27.68;MQ=60;MQ0=0;NS=2;PP=412.25\tGT:GQ:DP:MQ:PS:PQ:RFQUAL:FT\t0|1:319:25:60:2282135:49:20.81:PASS\t0|1|1:319:46:60:2282135:49:12.31:PASS\n",
      "\n",
      "1\t2282263\t.\tG\tA\t392.22\tPASS\tAC=1;AN=5;DP=74;MP=27.68;MQ=60;MQ0=0;NS=2;PP=392.22;SOMATIC\tGT:GQ:DP:MQ:PS:PQ:MAP_VAF:VAF_CR:RFQUAL:FT\t0|0:658:29:60:2282135:49:.:.,.:24.77:PASS\t0|0|1:658:45:60:2282135:49:0.33:0.28,0.38:22.73:PASS\n",
      "\n",
      "1\t2282373\t.\tC\tT\t1088.61\tPASS\tAC=3;AN=5;DP=74;MP=27.68;MQ=59;MQ0=0;NS=2;PP=688.86\tGT:GQ:DP:MQ:PS:PQ:RFQUAL:FT\t0|1:319:27:60:2282135:49:57.49:PASS\t0|1|1:319:47:59:2282135:49:8.68:PASS\n",
      "\n"
     ]
    },
    {
     "data": {
      "text/plain": [
       "[None, None, None, None]"
      ]
     },
     "execution_count": 27,
     "metadata": {},
     "output_type": "execute_result"
    }
   ],
   "source": [
    "[print(rec) for rec in passed_somatic_phasesets_with_het_germline[10]]"
   ]
  },
  {
   "cell_type": "code",
   "execution_count": 28,
   "metadata": {},
   "outputs": [
    {
     "data": {
      "text/plain": [
       "0.22183150467181018"
      ]
     },
     "execution_count": 28,
     "metadata": {},
     "output_type": "execute_result"
    }
   ],
   "source": [
    "57217 / 257930"
   ]
  },
  {
   "cell_type": "code",
   "execution_count": 29,
   "metadata": {},
   "outputs": [
    {
     "data": {
      "text/plain": [
       "0.01888884581087892"
      ]
     },
     "execution_count": 29,
     "metadata": {},
     "output_type": "execute_result"
    }
   ],
   "source": [
    "4872 / 257930"
   ]
  },
  {
   "cell_type": "code",
   "execution_count": 10,
   "metadata": {},
   "outputs": [],
   "source": [
    "import subprocess as sp\n",
    "from os import remove\n",
    "\n",
    "vcfanno_bin = '/Users/dcooke/Genomics/apps/vcfanno'\n",
    "\n",
    "def write_vcfanno_haplotype_config(vaf_vcf, out):\n",
    "    with open(out, 'w') as toml:\n",
    "        toml.write('[[annotation]]\\n')\n",
    "        toml.write('file=\"' + vaf_vcf + '\"\\n')\n",
    "        toml.write('fields=[\"HAP\"]\\n')\n",
    "        toml.write('ops=[\"self\"]\\n')\n",
    "        toml.write('names=[\"HAP\"]\\n')\n",
    "\n",
    "def run_vcfanno(in_vcf, vcfanno_config, out_vcf):\n",
    "    vcfanno_cmd = [vcfanno_bin, '-permissive-overlap', vcfanno_config, in_vcf]\n",
    "    bgzip_cmd = ['bgzip']\n",
    "    vcfanno = sp.Popen(vcfanno_cmd, stdout=sp.PIPE)\n",
    "    out = open(out_vcf, 'w')\n",
    "    bgzip = sp.Popen(bgzip_cmd, stdin=vcfanno.stdout, stdout=out)\n",
    "    vcfanno.stdout.close()\n",
    "    output = bgzip.communicate()[0]\n",
    "\n",
    "def annotate_haplotypes(caller_vcf, truth_vcf, out_vcf):\n",
    "    vcfanno_config = 'hap.toml'\n",
    "    write_vcfanno_haplotype_config(truth_vcf, vcfanno_config)\n",
    "    run_vcfanno(caller_vcf, vcfanno_config, out_vcf)\n",
    "    remove(vcfanno_config)"
   ]
  },
  {
   "cell_type": "code",
   "execution_count": 11,
   "metadata": {},
   "outputs": [],
   "source": [
    "truth_vcf = '/Users/dcooke/Genomics/octopus/paper/somatic/truth/skin.vcf.gz'\n",
    "hap_annotated_vcf = vcf_path.replace('.vcf', '.HAP.tmp.vcf')\n",
    "annotate_haplotypes(vcf_path, truth_vcf, hap_annotated_vcf)\n",
    "hap_annotated_phase_sets = get_multivariant_phasesets(hap_annotated_vcf)"
   ]
  },
  {
   "cell_type": "code",
   "execution_count": 12,
   "metadata": {},
   "outputs": [],
   "source": [
    "passed_somatic_hap_annotated_phase_sets = [phaseset for phaseset in hap_annotated_phase_sets if any(is_somatic(record) for record in phaseset) and all_passed(phaseset)]"
   ]
  },
  {
   "cell_type": "code",
   "execution_count": 13,
   "metadata": {},
   "outputs": [],
   "source": [
    "passed_somatic_hap_annotated_phase_sets_with_germline_het = [phase_set for phase_set in passed_somatic_hap_annotated_phase_sets if any(not is_somatic(record) and is_heterozygous(record, \"NA12878.NORMAL\") for record in phase_set)]"
   ]
  },
  {
   "cell_type": "code",
   "execution_count": 14,
   "metadata": {},
   "outputs": [
    {
     "data": {
      "text/plain": [
       "55776"
      ]
     },
     "execution_count": 14,
     "metadata": {},
     "output_type": "execute_result"
    }
   ],
   "source": [
    "len(passed_somatic_hap_annotated_phase_sets_with_germline_het)"
   ]
  },
  {
   "cell_type": "code",
   "execution_count": 15,
   "metadata": {},
   "outputs": [
    {
     "name": "stdout",
     "output_type": "stream",
     "text": [
      "1\t55063\t.\tC\tA\t448.5\tPASS\tAC=1;AN=5;DP=48;MP=8.84;MQ=39;MQ0=0;NS=2;PP=435.4;SOMATIC;HAP=1\tGT:GQ:DP:MQ:PS:PQ:MAP_VAF:VAF_CR:RFQUAL:FT\t0|0:435:25:39:55063:99:.:.,.:9.52:PASS\t0|0|1:435:23:39:55063:99:0.62:0.53,0.71:7.19:PASS\n",
      "\n",
      "1\t55085\t.\tT\tA\t323.6\tPASS\tAC=2;AN=5;DP=43;MP=8.84;MQ=39;MQ0=0;NS=2;PP=323.63\tGT:GQ:DP:MQ:PS:PQ:RFQUAL:FT\t1|0:154:21:39:55063:99:19.88:PASS\t1|0|0:154:22:39:55063:99:18.36:PASS\n",
      "\n",
      "1\t55164\t.\tC\tA\t484.8\tPASS\tAC=5;AN=5;DP=33;MP=8.84;MQ=36;MQ0=0;NS=2;PP=289.19\tGT:GQ:DP:MQ:PS:PQ:RFQUAL:FT\t1|1:154:12:38:55063:99:22.29:PASS\t1|1|1:154:21:36:55063:99:27.6:PASS\n",
      "\n",
      "1\t55299\t.\tC\tT\t1452.5\tPASS\tAC=5;AN=5;DP=48;MP=8.84;MQ=48;MQ0=0;NS=2;PP=943.46\tGT:GQ:DP:MQ:PS:PQ:RFQUAL:FT\t1|1:154:20:48:55063:99:36.66:PASS\t1|1|1:154:28:48:55063:99:36.66:PASS\n",
      "\n",
      "1\t55326\t.\tT\tC\t1720.3\tPASS\tAC=5;AN=5;DP=54;MP=8.84;MQ=49;MQ0=0;NS=2;PP=1035.54\tGT:GQ:DP:MQ:PS:PQ:RFQUAL:FT\t1|1:154:19:49:55063:99:28.67:PASS\t1|1|1:154:35:50:55063:99:36.66:PASS\n",
      "\n"
     ]
    }
   ],
   "source": [
    "for rec in passed_somatic_hap_annotated_phase_sets_with_germline_het[0]:\n",
    "    print(rec)"
   ]
  },
  {
   "cell_type": "code",
   "execution_count": 16,
   "metadata": {},
   "outputs": [],
   "source": [
    "consensus_vcf1_name = '/Users/dcooke/Genomics/syntumour/consensus/octopus.recall.NA12878.60x.bwa.b37.rf-hard-filtered.consensus1.vcf.gz'\n",
    "consensus_vcf2_name = '/Users/dcooke/Genomics/syntumour/consensus/octopus.recall.NA12878.60x.bwa.b37.rf-hard-filtered.consensus2.vcf.gz'"
   ]
  },
  {
   "cell_type": "code",
   "execution_count": 17,
   "metadata": {},
   "outputs": [],
   "source": [
    "hap1_germline_hets, hap2_germline_hets = [], []\n",
    "for phase_set in passed_somatic_hap_annotated_phase_sets_with_germline_het:\n",
    "    if count_somatics(phase_set) == 1:\n",
    "        hap = 0\n",
    "        for rec in phase_set:\n",
    "            if is_somatic(rec):\n",
    "                if 'HAP' in rec.info:\n",
    "                    hap = rec.info['HAP']\n",
    "                else:\n",
    "                    continue\n",
    "        for rec in phase_set:\n",
    "            if not is_somatic(rec) and is_heterozygous(rec, 'NA12878.NORMAL'):\n",
    "                tumour_gt = rec.samples['NA12878.TUMOUR']['GT']\n",
    "                if len(tumour_gt) == 3:\n",
    "                    if tumour_gt[-1] == 0:\n",
    "                        if hap == 0:\n",
    "                            hap2_germline_hets.append(rec)\n",
    "                        else:\n",
    "                            hap1_germline_hets.append(rec)\n",
    "                    elif tumour_gt[-1] == 1:\n",
    "                        if hap == 0:\n",
    "                            hap1_germline_hets.append(rec)\n",
    "                        else:\n",
    "                            hap2_germline_hets.append(rec)"
   ]
  },
  {
   "cell_type": "code",
   "execution_count": 18,
   "metadata": {},
   "outputs": [
    {
     "name": "stdout",
     "output_type": "stream",
     "text": [
      "1\t1072636\t.\tT\tG\t168.7\tPASS\tAC=2;AN=5;DP=68;MP=19.81;MQ=59;MQ0=0;NS=2;PP=168.73\tGT:GQ:DP:MQ:PS:PQ:RFQUAL:FT\t1|0:81:27:59:1072244:99:13.74:PASS\t1|0|0:81:41:60:1072244:99:5.88:PASS\n",
      "\n"
     ]
    }
   ],
   "source": [
    "print(hap2_germline_hets[0])"
   ]
  },
  {
   "cell_type": "code",
   "execution_count": 19,
   "metadata": {},
   "outputs": [
    {
     "data": {
      "text/plain": [
       "(42456, 42408)"
      ]
     },
     "execution_count": 19,
     "metadata": {},
     "output_type": "execute_result"
    }
   ],
   "source": [
    "len(hap1_germline_hets), len(hap2_germline_hets)"
   ]
  },
  {
   "cell_type": "code",
   "execution_count": 34,
   "metadata": {},
   "outputs": [],
   "source": [
    "from os import remove\n",
    "from os.path import exists\n",
    "\n",
    "def index_vcf(vcf_path):\n",
    "    sp.call(['tabix', vcf_path])\n",
    "    return vcf_path + '.tbi'\n",
    "\n",
    "def remove_vcf(vcf_path):\n",
    "    remove(vcf_path)\n",
    "    if exists(vcf_path + '.tbi'):\n",
    "        remove(vcf_path + '.tbi')"
   ]
  },
  {
   "cell_type": "code",
   "execution_count": 36,
   "metadata": {},
   "outputs": [],
   "source": [
    "phase_errors = []\n",
    "\n",
    "tmp_header = ps.VariantFile(vcf_path).header\n",
    "\n",
    "hap1_germline_hets_tmp_vcf_name = 'hap1_germline_tmp.vcf.gz'\n",
    "hap1_germline_hets_tmp_vcf = ps.VariantFile(hap1_germline_hets_tmp_vcf_name, 'w', header=tmp_header)\n",
    "for rec in hap1_germline_hets:\n",
    "    hap1_germline_hets_tmp_vcf.write(rec)\n",
    "hap1_germline_hets_tmp_vcf.close()\n",
    "index_vcf(hap1_germline_hets_tmp_vcf_name)\n",
    "hap2_germline_hets_tmp_vcf_name = 'hap2_germline_tmp.vcf.gz'\n",
    "hap2_germline_hets_tmp_vcf = ps.VariantFile(hap2_germline_hets_tmp_vcf_name, 'w', header=tmp_header)\n",
    "for rec in hap2_germline_hets:\n",
    "    hap2_germline_hets_tmp_vcf.write(rec)\n",
    "hap2_germline_hets_tmp_vcf.close()\n",
    "index_vcf(hap2_germline_hets_tmp_vcf_name)\n",
    "\n",
    "fp_hap1_hets_vcf_name = 'fp_hap1_hets.vcf.gz'\n",
    "sp.call(['bcftools', 'isec', '-C', '-n=1', '-w1', '-Oz', '-o', fp_hap1_hets_vcf_name, hap1_germline_hets_tmp_vcf_name, consensus_vcf1_name])\n",
    "index_vcf(fp_hap1_hets_vcf_name)\n",
    "hap1_phase_errors_vcf_name = 'hap1_phase_errors.vcf.gz'\n",
    "sp.call(['bcftools', 'isec', '-n=2', '-w1', '-Oz', '-o', hap1_phase_errors_vcf_name, fp_hap1_hets_vcf_name, consensus_vcf2_name])\n",
    "remove_vcf(fp_hap1_hets_vcf_name)\n",
    "\n",
    "hap1_phase_errors_vcf = ps.VariantFile(hap1_phase_errors_vcf_name)\n",
    "phase_errors += [rec for rec in hap1_phase_errors_vcf]\n",
    "hap1_phase_errors_vcf.close()\n",
    "remove_vcf(hap1_phase_errors_vcf_name)\n",
    "\n",
    "fp_hap2_hets_vcf_name = 'fp_hap2_hets.vcf.gz'\n",
    "sp.call(['bcftools', 'isec', '-C', '-n=1', '-w1', '-Oz', '-o', fp_hap2_hets_vcf_name, hap2_germline_hets_tmp_vcf_name, consensus_vcf2_name])\n",
    "index_vcf(fp_hap2_hets_vcf_name)\n",
    "hap2_phase_errors_vcf_name = 'hap1_phase_errors.vcf.gz'\n",
    "sp.call(['bcftools', 'isec', '-n=2', '-w1', '-Oz', '-o', hap2_phase_errors_vcf_name, fp_hap2_hets_vcf_name, consensus_vcf1_name])\n",
    "remove_vcf(fp_hap2_hets_vcf_name)\n",
    "\n",
    "hap2_phase_errors_vcf = ps.VariantFile(hap2_phase_errors_vcf_name)\n",
    "phase_errors += [rec for rec in hap2_phase_errors_vcf]\n",
    "hap2_phase_errors_vcf.close()\n",
    "remove_vcf(hap1_phase_errors_vcf_name)\n",
    "\n",
    "remove_vcf(hap1_germline_hets_tmp_vcf_name)\n",
    "remove_vcf(hap2_germline_hets_tmp_vcf_name)"
   ]
  },
  {
   "cell_type": "code",
   "execution_count": 39,
   "metadata": {},
   "outputs": [
    {
     "data": {
      "text/plain": [
       "92.62467006033182"
      ]
     },
     "execution_count": 39,
     "metadata": {},
     "output_type": "execute_result"
    }
   ],
   "source": [
    "100 * (1. - len(phase_errors) / (len(hap1_germline_hets) + len(hap2_germline_hets)))"
   ]
  },
  {
   "cell_type": "code",
   "execution_count": null,
   "metadata": {},
   "outputs": [],
   "source": []
  }
 ],
 "metadata": {
  "kernelspec": {
   "display_name": "Python 3",
   "language": "python",
   "name": "python3"
  },
  "language_info": {
   "codemirror_mode": {
    "name": "ipython",
    "version": 3
   },
   "file_extension": ".py",
   "mimetype": "text/x-python",
   "name": "python",
   "nbconvert_exporter": "python",
   "pygments_lexer": "ipython3",
   "version": "3.7.0"
  }
 },
 "nbformat": 4,
 "nbformat_minor": 2
}
